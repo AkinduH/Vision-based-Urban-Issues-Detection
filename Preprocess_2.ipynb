{
 "cells": [
  {
   "cell_type": "code",
   "execution_count": 19,
   "id": "16cc18ea",
   "metadata": {},
   "outputs": [
    {
     "name": "stdout",
     "output_type": "stream",
     "text": [
      "Label 0: 1039 instances\n",
      "Label 1: 565 instances\n"
     ]
    }
   ],
   "source": [
    "import os\n",
    "from collections import Counter\n",
    "\n",
    "folder_path = \"Garbage_3\\\\train\\\\labels\"\n",
    "label_counts = Counter()\n",
    "\n",
    "for filename in os.listdir(folder_path):\n",
    "    if filename.endswith(\".txt\"):\n",
    "        file_path = os.path.join(folder_path, filename)\n",
    "        with open(file_path, \"r\") as f:\n",
    "            for line in f:\n",
    "                parts = line.strip().split()\n",
    "                if parts:  # skip empty lines\n",
    "                    label = parts[0]\n",
    "                    label_counts[label] += 1\n",
    "\n",
    "# Print results\n",
    "for label, count in sorted(label_counts.items(), key=lambda x: int(x[0])):\n",
    "    print(f\"Label {label}: {count} instances\")\n"
   ]
  },
  {
   "cell_type": "code",
   "execution_count": 20,
   "id": "7b8c62ba",
   "metadata": {},
   "outputs": [],
   "source": [
    "import os\n",
    "\n",
    "folder_path = \"Garbage_3\\\\train\\\\labels\"\n",
    "\n",
    "for filename in os.listdir(folder_path):\n",
    "    if filename.endswith(\".txt\"):\n",
    "        file_path = os.path.join(folder_path, filename)\n",
    "\n",
    "        with open(file_path, \"r\") as f:\n",
    "            lines = f.readlines()\n",
    "\n",
    "        updated_lines = []\n",
    "        for line in lines:\n",
    "            parts = line.strip().split()\n",
    "            if parts:  # non-empty line\n",
    "                parts[0] = \"5\"  # change label to 5\n",
    "                updated_lines.append(\" \".join(parts) + \"\\n\")\n",
    "            else:\n",
    "                updated_lines.append(\"\\n\")  # preserve blank lines\n",
    "\n",
    "        with open(file_path, \"w\") as f:\n",
    "            f.writelines(updated_lines)"
   ]
  },
  {
   "cell_type": "code",
   "execution_count": 15,
   "id": "49880376",
   "metadata": {},
   "outputs": [
    {
     "name": "stdout",
     "output_type": "stream",
     "text": [
      "Label 0: 973 instances\n"
     ]
    }
   ],
   "source": [
    "import os\n",
    "from collections import Counter\n",
    "\n",
    "folder_path = \"Garbage_2\\\\test\\\\labels\"\n",
    "label_counts = Counter()\n",
    "\n",
    "for filename in os.listdir(folder_path):\n",
    "    if filename.endswith(\".txt\"):\n",
    "        file_path = os.path.join(folder_path, filename)\n",
    "        with open(file_path, \"r\") as f:\n",
    "            for line in f:\n",
    "                parts = line.strip().split()\n",
    "                if parts:  # skip empty lines\n",
    "                    label = parts[0]\n",
    "                    label_counts[label] += 1\n",
    "\n",
    "# Print results\n",
    "for label, count in sorted(label_counts.items(), key=lambda x: int(x[0])):\n",
    "    print(f\"Label {label}: {count} instances\")\n"
   ]
  },
  {
   "cell_type": "code",
   "execution_count": 16,
   "id": "085d6f30",
   "metadata": {},
   "outputs": [],
   "source": [
    "import os\n",
    "\n",
    "folder_path = \"Garbage_2\\\\test\\\\labels\"\n",
    "\n",
    "for filename in os.listdir(folder_path):\n",
    "    if filename.endswith(\".txt\"):\n",
    "        file_path = os.path.join(folder_path, filename)\n",
    "\n",
    "        with open(file_path, \"r\") as f:\n",
    "            lines = f.readlines()\n",
    "\n",
    "        updated_lines = []\n",
    "        for line in lines:\n",
    "            parts = line.strip().split()\n",
    "            if parts:  # non-empty line\n",
    "                parts[0] = \"5\"  # change label to 5\n",
    "                updated_lines.append(\" \".join(parts) + \"\\n\")\n",
    "            else:\n",
    "                updated_lines.append(\"\\n\")  # preserve blank lines\n",
    "\n",
    "        with open(file_path, \"w\") as f:\n",
    "            f.writelines(updated_lines)"
   ]
  },
  {
   "cell_type": "code",
   "execution_count": 21,
   "id": "dae333a4",
   "metadata": {},
   "outputs": [
    {
     "name": "stdout",
     "output_type": "stream",
     "text": [
      "Label 0: 251 instances\n",
      "Label 1: 221 instances\n"
     ]
    }
   ],
   "source": [
    "import os\n",
    "from collections import Counter\n",
    "\n",
    "folder_path = \"Garbage_3\\\\valid\\\\labels\"\n",
    "label_counts = Counter()\n",
    "\n",
    "for filename in os.listdir(folder_path):\n",
    "    if filename.endswith(\".txt\"):\n",
    "        file_path = os.path.join(folder_path, filename)\n",
    "        with open(file_path, \"r\") as f:\n",
    "            for line in f:\n",
    "                parts = line.strip().split()\n",
    "                if parts:  # skip empty lines\n",
    "                    label = parts[0]\n",
    "                    label_counts[label] += 1\n",
    "\n",
    "# Print results\n",
    "for label, count in sorted(label_counts.items(), key=lambda x: int(x[0])):\n",
    "    print(f\"Label {label}: {count} instances\")\n"
   ]
  },
  {
   "cell_type": "code",
   "execution_count": 22,
   "id": "558b80d9",
   "metadata": {},
   "outputs": [],
   "source": [
    "import os\n",
    "\n",
    "folder_path = \"Garbage_3\\\\valid\\\\labels\"\n",
    "\n",
    "for filename in os.listdir(folder_path):\n",
    "    if filename.endswith(\".txt\"):\n",
    "        file_path = os.path.join(folder_path, filename)\n",
    "\n",
    "        with open(file_path, \"r\") as f:\n",
    "            lines = f.readlines()\n",
    "\n",
    "        updated_lines = []\n",
    "        for line in lines:\n",
    "            parts = line.strip().split()\n",
    "            if parts:  # non-empty line\n",
    "                parts[0] = \"5\"  # change label to 5\n",
    "                updated_lines.append(\" \".join(parts) + \"\\n\")\n",
    "            else:\n",
    "                updated_lines.append(\"\\n\")  # preserve blank lines\n",
    "\n",
    "        with open(file_path, \"w\") as f:\n",
    "            f.writelines(updated_lines)"
   ]
  }
 ],
 "metadata": {
  "kernelspec": {
   "display_name": "Python 3",
   "language": "python",
   "name": "python3"
  },
  "language_info": {
   "codemirror_mode": {
    "name": "ipython",
    "version": 3
   },
   "file_extension": ".py",
   "mimetype": "text/x-python",
   "name": "python",
   "nbconvert_exporter": "python",
   "pygments_lexer": "ipython3",
   "version": "3.11.3"
  }
 },
 "nbformat": 4,
 "nbformat_minor": 5
}
