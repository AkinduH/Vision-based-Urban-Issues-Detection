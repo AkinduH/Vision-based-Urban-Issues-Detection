{
 "cells": [
  {
   "cell_type": "code",
   "execution_count": 5,
   "id": "16cc18ea",
   "metadata": {},
   "outputs": [
    {
     "name": "stdout",
     "output_type": "stream",
     "text": [
      "Label 0: 299 instances\n",
      "Label 1: 837 instances\n",
      "Label 2: 6443 instances\n",
      "Label 3: 2480 instances\n",
      "Label 4: 1188 instances\n",
      "Label 5: 354 instances\n",
      "Label 6: 2726 instances\n",
      "Label 7: 1371 instances\n",
      "Label 8: 1537 instances\n",
      "Label 9: 1071 instances\n",
      "Label 10: 731 instances\n",
      "Label 11: 1325 instances\n",
      "Label 12: 715 instances\n",
      "Label 13: 405 instances\n",
      "Label 14: 10408 instances\n",
      "Label 15: 6853 instances\n",
      "Label 16: 272 instances\n",
      "Label 17: 3266 instances\n",
      "Label 18: 1133 instances\n",
      "Label 19: 6 instances\n"
     ]
    }
   ],
   "source": [
    "import os\n",
    "from collections import Counter\n",
    "\n",
    "folder_path = \"Concrete1\\\\train\\\\labels\"\n",
    "label_counts = Counter()\n",
    "\n",
    "for filename in os.listdir(folder_path):\n",
    "    if filename.endswith(\".txt\"):\n",
    "        file_path = os.path.join(folder_path, filename)\n",
    "        with open(file_path, \"r\") as f:\n",
    "            for line in f:\n",
    "                parts = line.strip().split()\n",
    "                if parts:  # skip empty lines\n",
    "                    label = parts[0]\n",
    "                    label_counts[label] += 1\n",
    "\n",
    "# Print results\n",
    "for label, count in sorted(label_counts.items(), key=lambda x: int(x[0])):\n",
    "    print(f\"Label {label}: {count} instances\")\n"
   ]
  },
  {
   "cell_type": "code",
   "execution_count": 2,
   "id": "7b8c62ba",
   "metadata": {},
   "outputs": [
    {
     "name": "stdout",
     "output_type": "stream",
     "text": [
      "Label 0: 415 instances\n",
      "Label 1: 565 instances\n"
     ]
    }
   ],
   "source": [
    "import os\n",
    "from collections import Counter\n",
    "\n",
    "folder_path = \"Concrete2\\\\train\\\\labels\"\n",
    "label_counts = Counter()\n",
    "\n",
    "for filename in os.listdir(folder_path):\n",
    "    if filename.endswith(\".txt\"):\n",
    "        file_path = os.path.join(folder_path, filename)\n",
    "        with open(file_path, \"r\") as f:\n",
    "            for line in f:\n",
    "                parts = line.strip().split()\n",
    "                if parts:  # skip empty lines\n",
    "                    label = parts[0]\n",
    "                    label_counts[label] += 1\n",
    "\n",
    "# Print results\n",
    "for label, count in sorted(label_counts.items(), key=lambda x: int(x[0])):\n",
    "    print(f\"Label {label}: {count} instances\")\n"
   ]
  },
  {
   "cell_type": "code",
   "execution_count": 3,
   "id": "49880376",
   "metadata": {},
   "outputs": [
    {
     "name": "stdout",
     "output_type": "stream",
     "text": [
      "Label 0: 566 instances\n",
      "Label 1: 514 instances\n"
     ]
    }
   ],
   "source": [
    "import os\n",
    "from collections import Counter\n",
    "\n",
    "folder_path = \"Concrete3\\\\train\\\\labels\"\n",
    "label_counts = Counter()\n",
    "\n",
    "for filename in os.listdir(folder_path):\n",
    "    if filename.endswith(\".txt\"):\n",
    "        file_path = os.path.join(folder_path, filename)\n",
    "        with open(file_path, \"r\") as f:\n",
    "            for line in f:\n",
    "                parts = line.strip().split()\n",
    "                if parts:  # skip empty lines\n",
    "                    label = parts[0]\n",
    "                    label_counts[label] += 1\n",
    "\n",
    "# Print results\n",
    "for label, count in sorted(label_counts.items(), key=lambda x: int(x[0])):\n",
    "    print(f\"Label {label}: {count} instances\")\n"
   ]
  },
  {
   "cell_type": "code",
   "execution_count": 17,
   "id": "88baa80f",
   "metadata": {},
   "outputs": [
    {
     "name": "stdout",
     "output_type": "stream",
     "text": [
      "All labels have been changed to 8.\n"
     ]
    }
   ],
   "source": [
    "import os\n",
    "\n",
    "folder_path = r\"Concrete3\\valid\\labels\"\n",
    "\n",
    "for filename in os.listdir(folder_path):\n",
    "    if filename.endswith(\".txt\"):\n",
    "        file_path = os.path.join(folder_path, filename)\n",
    "        with open(file_path, \"r\") as f:\n",
    "            lines = f.readlines()\n",
    "\n",
    "        # Replace the label in each line with \"8\"\n",
    "        new_lines = []\n",
    "        for line in lines:\n",
    "            parts = line.strip().split()\n",
    "            if parts:\n",
    "                parts[0] = \"8\"\n",
    "                new_lines.append(\" \".join(parts) + \"\\n\")\n",
    "\n",
    "        # Overwrite the file with updated labels\n",
    "        with open(file_path, \"w\") as f:\n",
    "            f.writelines(new_lines)\n",
    "\n",
    "print(\"All labels have been changed to 8.\")"
   ]
  },
  {
   "cell_type": "code",
   "execution_count": 22,
   "id": "f6e7f9c8",
   "metadata": {},
   "outputs": [
    {
     "name": "stdout",
     "output_type": "stream",
     "text": [
      "Label 8: 45480 instances\n"
     ]
    }
   ],
   "source": [
    "import os\n",
    "from collections import Counter\n",
    "\n",
    "folder_path = \"Damaged concrete structures\\\\train\\\\labels\"\n",
    "label_counts = Counter()\n",
    "\n",
    "for filename in os.listdir(folder_path):\n",
    "    if filename.endswith(\".txt\"):\n",
    "        file_path = os.path.join(folder_path, filename)\n",
    "        with open(file_path, \"r\") as f:\n",
    "            for line in f:\n",
    "                parts = line.strip().split()\n",
    "                if parts:  # skip empty lines\n",
    "                    label = parts[0]\n",
    "                    label_counts[label] += 1\n",
    "\n",
    "# Print results\n",
    "for label, count in sorted(label_counts.items(), key=lambda x: int(x[0])):\n",
    "    print(f\"Label {label}: {count} instances\")\n"
   ]
  },
  {
   "cell_type": "code",
   "execution_count": null,
   "id": "a26e0989",
   "metadata": {},
   "outputs": [],
   "source": []
  },
  {
   "cell_type": "code",
   "execution_count": null,
   "id": "50c4e971",
   "metadata": {},
   "outputs": [],
   "source": []
  },
  {
   "cell_type": "code",
   "execution_count": null,
   "id": "7927b5c0",
   "metadata": {},
   "outputs": [],
   "source": []
  }
 ],
 "metadata": {
  "kernelspec": {
   "display_name": "Python 3",
   "language": "python",
   "name": "python3"
  },
  "language_info": {
   "codemirror_mode": {
    "name": "ipython",
    "version": 3
   },
   "file_extension": ".py",
   "mimetype": "text/x-python",
   "name": "python",
   "nbconvert_exporter": "python",
   "pygments_lexer": "ipython3",
   "version": "3.11.3"
  }
 },
 "nbformat": 4,
 "nbformat_minor": 5
}
