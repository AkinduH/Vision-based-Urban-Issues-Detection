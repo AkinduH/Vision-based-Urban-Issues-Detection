{
 "cells": [
  {
   "cell_type": "code",
   "execution_count": 21,
   "id": "16cc18ea",
   "metadata": {},
   "outputs": [],
   "source": [
    "import os\n",
    "from collections import Counter\n",
    "\n",
    "folder_path = \"RoadCracks\\\\valid\\\\labels\"\n",
    "label_counts = Counter()\n",
    "\n",
    "for filename in os.listdir(folder_path):\n",
    "    if filename.endswith(\".txt\"):\n",
    "        file_path = os.path.join(folder_path, filename)\n",
    "        with open(file_path, \"r\") as f:\n",
    "            for line in f:\n",
    "                parts = line.strip().split()\n",
    "                if parts:  # skip empty lines\n",
    "                    label = parts[0]\n",
    "                    label_counts[label] += 1\n",
    "\n",
    "# Print results\n",
    "for label, count in sorted(label_counts.items(), key=lambda x: int(x[0])):\n",
    "    print(f\"Label {label}: {count} instances\")\n"
   ]
  },
  {
   "cell_type": "code",
   "execution_count": 22,
   "id": "1e5cbc32",
   "metadata": {},
   "outputs": [],
   "source": [
    "import os\n",
    "from collections import Counter\n",
    "\n",
    "folder_path = \"road damaged\\\\valid\\\\labels\"\n",
    "label_counts = Counter()\n",
    "\n",
    "for filename in os.listdir(folder_path):\n",
    "    if filename.endswith(\".txt\"):\n",
    "        file_path = os.path.join(folder_path, filename)\n",
    "        with open(file_path, \"r\") as f:\n",
    "            for line in f:\n",
    "                parts = line.strip().split()\n",
    "                if parts:  # skip empty lines\n",
    "                    label = parts[0]\n",
    "                    label_counts[label] += 1\n",
    "\n",
    "# Print results\n",
    "for label, count in sorted(label_counts.items(), key=lambda x: int(x[0])):\n",
    "    print(f\"Label {label}: {count} instances\")\n"
   ]
  },
  {
   "cell_type": "code",
   "execution_count": 23,
   "id": "153feab9",
   "metadata": {},
   "outputs": [
    {
     "name": "stdout",
     "output_type": "stream",
     "text": [
      "Label 0: 1405 instances\n",
      "Label 1: 1760 instances\n"
     ]
    }
   ],
   "source": [
    "import os\n",
    "from collections import Counter\n",
    "\n",
    "folder_path = \"Potholes and RoadCracks\\\\valid\\\\labels\"\n",
    "label_counts = Counter()\n",
    "\n",
    "for filename in os.listdir(folder_path):\n",
    "    if filename.endswith(\".txt\"):\n",
    "        file_path = os.path.join(folder_path, filename)\n",
    "        with open(file_path, \"r\") as f:\n",
    "            for line in f:\n",
    "                parts = line.strip().split()\n",
    "                if parts:  # skip empty lines\n",
    "                    label = parts[0]\n",
    "                    label_counts[label] += 1\n",
    "\n",
    "# Print results\n",
    "for label, count in sorted(label_counts.items(), key=lambda x: int(x[0])):\n",
    "    print(f\"Label {label}: {count} instances\")\n"
   ]
  },
  {
   "cell_type": "code",
   "execution_count": null,
   "id": "6947c382",
   "metadata": {},
   "outputs": [],
   "source": []
  },
  {
   "cell_type": "code",
   "execution_count": null,
   "id": "e4d8eac1",
   "metadata": {},
   "outputs": [],
   "source": []
  },
  {
   "cell_type": "code",
   "execution_count": null,
   "id": "fded1f5d",
   "metadata": {},
   "outputs": [],
   "source": []
  },
  {
   "cell_type": "code",
   "execution_count": null,
   "id": "fc72483e",
   "metadata": {},
   "outputs": [],
   "source": []
  },
  {
   "cell_type": "code",
   "execution_count": null,
   "id": "6ca7feec",
   "metadata": {},
   "outputs": [],
   "source": []
  },
  {
   "cell_type": "code",
   "execution_count": null,
   "id": "ec347967",
   "metadata": {},
   "outputs": [],
   "source": []
  }
 ],
 "metadata": {
  "kernelspec": {
   "display_name": "Python 3",
   "language": "python",
   "name": "python3"
  },
  "language_info": {
   "codemirror_mode": {
    "name": "ipython",
    "version": 3
   },
   "file_extension": ".py",
   "mimetype": "text/x-python",
   "name": "python",
   "nbconvert_exporter": "python",
   "pygments_lexer": "ipython3",
   "version": "3.11.3"
  }
 },
 "nbformat": 4,
 "nbformat_minor": 5
}
