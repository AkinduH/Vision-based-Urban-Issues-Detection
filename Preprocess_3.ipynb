{
 "cells": [
  {
   "cell_type": "code",
   "execution_count": 4,
   "id": "16cc18ea",
   "metadata": {},
   "outputs": [
    {
     "name": "stdout",
     "output_type": "stream",
     "text": [
      "Label 0: 265 instances\n",
      "Label 1: 11 instances\n"
     ]
    }
   ],
   "source": [
    "import os\n",
    "from collections import Counter\n",
    "\n",
    "folder_path = \"Potholes or Cracks\\\\test\\\\labels\"\n",
    "label_counts = Counter()\n",
    "\n",
    "for filename in os.listdir(folder_path):\n",
    "    if filename.endswith(\".txt\"):\n",
    "        file_path = os.path.join(folder_path, filename)\n",
    "        with open(file_path, \"r\") as f:\n",
    "            for line in f:\n",
    "                parts = line.strip().split()\n",
    "                if parts:  # skip empty lines\n",
    "                    label = parts[0]\n",
    "                    label_counts[label] += 1\n",
    "\n",
    "# Print results\n",
    "for label, count in sorted(label_counts.items(), key=lambda x: int(x[0])):\n",
    "    print(f\"Label {label}: {count} instances\")\n"
   ]
  },
  {
   "cell_type": "code",
   "execution_count": 5,
   "id": "7b8c62ba",
   "metadata": {},
   "outputs": [
    {
     "name": "stdout",
     "output_type": "stream",
     "text": [
      "Labels 0 and 1 swapped in all files.\n"
     ]
    }
   ],
   "source": [
    "import os\n",
    "\n",
    "folder_path = r\"Potholes or Cracks\\test\\labels\"\n",
    "\n",
    "for filename in os.listdir(folder_path):\n",
    "    if filename.endswith(\".txt\"):\n",
    "        file_path = os.path.join(folder_path, filename)\n",
    "        \n",
    "        with open(file_path, \"r\") as f:\n",
    "            lines = f.readlines()\n",
    "        \n",
    "        new_lines = []\n",
    "        for line in lines:\n",
    "            parts = line.strip().split()\n",
    "            if parts:\n",
    "                if parts[0] == \"0\":\n",
    "                    parts[0] = \"1\"\n",
    "                elif parts[0] == \"1\":\n",
    "                    parts[0] = \"0\"\n",
    "                # keep other labels unchanged if any\n",
    "                new_lines.append(\" \".join(parts) + \"\\n\")\n",
    "            else:\n",
    "                new_lines.append(\"\\n\")  # preserve blank lines\n",
    "        \n",
    "        with open(file_path, \"w\") as f:\n",
    "            f.writelines(new_lines)\n",
    "\n",
    "print(\"Labels 0 and 1 swapped in all files.\")"
   ]
  },
  {
   "cell_type": "code",
   "execution_count": 1,
   "id": "49880376",
   "metadata": {},
   "outputs": [
    {
     "name": "stdout",
     "output_type": "stream",
     "text": [
      "Label 0: 676 instances\n",
      "Label 1: 852 instances\n",
      "Label 2: 1503 instances\n",
      "Label 3: 1888 instances\n"
     ]
    }
   ],
   "source": [
    "import os\n",
    "from collections import Counter\n",
    "\n",
    "folder_path = \"road damaged\\\\train\\\\labels\"\n",
    "label_counts = Counter()\n",
    "\n",
    "for filename in os.listdir(folder_path):\n",
    "    if filename.endswith(\".txt\"):\n",
    "        file_path = os.path.join(folder_path, filename)\n",
    "        with open(file_path, \"r\") as f:\n",
    "            for line in f:\n",
    "                parts = line.strip().split()\n",
    "                if parts:  # skip empty lines\n",
    "                    label = parts[0]\n",
    "                    label_counts[label] += 1\n",
    "\n",
    "# Print results\n",
    "for label, count in sorted(label_counts.items(), key=lambda x: int(x[0])):\n",
    "    print(f\"Label {label}: {count} instances\")\n"
   ]
  },
  {
   "cell_type": "code",
   "execution_count": 2,
   "id": "085d6f30",
   "metadata": {},
   "outputs": [],
   "source": [
    "import os\n",
    "\n",
    "folder_path = r\"road damaged\\train\\labels\"\n",
    "\n",
    "for filename in os.listdir(folder_path):\n",
    "    if filename.endswith(\".txt\"):\n",
    "        file_path = os.path.join(folder_path, filename)\n",
    "        \n",
    "        with open(file_path, \"r\") as f:\n",
    "            lines = f.readlines()\n",
    "        \n",
    "        new_lines = []\n",
    "        for line in lines:\n",
    "            parts = line.strip().split()\n",
    "            if parts:\n",
    "                if parts[0] == \"1\":\n",
    "                    parts[0] = \"0\"\n",
    "                elif parts[0] == \"2\":\n",
    "                    parts[0] = \"0\"\n",
    "                elif parts[0] == \"3\":\n",
    "                    parts[0] = \"1\"\n",
    "                # keep other labels unchanged if any\n",
    "                new_lines.append(\" \".join(parts) + \"\\n\")\n",
    "            else:\n",
    "                new_lines.append(\"\\n\")  # preserve blank lines\n",
    "        \n",
    "        with open(file_path, \"w\") as f:\n",
    "            f.writelines(new_lines)"
   ]
  },
  {
   "cell_type": "code",
   "execution_count": 4,
   "id": "dae333a4",
   "metadata": {},
   "outputs": [
    {
     "name": "stdout",
     "output_type": "stream",
     "text": [
      "Label 0: 288 instances\n",
      "Label 1: 370 instances\n",
      "Label 2: 653 instances\n",
      "Label 3: 769 instances\n"
     ]
    }
   ],
   "source": [
    "import os\n",
    "from collections import Counter\n",
    "\n",
    "folder_path = \"road damaged\\\\valid\\\\labels\"\n",
    "label_counts = Counter()\n",
    "\n",
    "for filename in os.listdir(folder_path):\n",
    "    if filename.endswith(\".txt\"):\n",
    "        file_path = os.path.join(folder_path, filename)\n",
    "        with open(file_path, \"r\") as f:\n",
    "            for line in f:\n",
    "                parts = line.strip().split()\n",
    "                if parts:  # skip empty lines\n",
    "                    label = parts[0]\n",
    "                    label_counts[label] += 1\n",
    "\n",
    "# Print results\n",
    "for label, count in sorted(label_counts.items(), key=lambda x: int(x[0])):\n",
    "    print(f\"Label {label}: {count} instances\")\n"
   ]
  },
  {
   "cell_type": "code",
   "execution_count": 5,
   "id": "558b80d9",
   "metadata": {},
   "outputs": [],
   "source": [
    "import os\n",
    "\n",
    "folder_path = r\"road damaged\\valid\\labels\"\n",
    "\n",
    "for filename in os.listdir(folder_path):\n",
    "    if filename.endswith(\".txt\"):\n",
    "        file_path = os.path.join(folder_path, filename)\n",
    "        \n",
    "        with open(file_path, \"r\") as f:\n",
    "            lines = f.readlines()\n",
    "        \n",
    "        new_lines = []\n",
    "        for line in lines:\n",
    "            parts = line.strip().split()\n",
    "            if parts:\n",
    "                if parts[0] == \"1\":\n",
    "                    parts[0] = \"0\"\n",
    "                elif parts[0] == \"2\":\n",
    "                    parts[0] = \"0\"\n",
    "                elif parts[0] == \"3\":\n",
    "                    parts[0] = \"1\"\n",
    "                # keep other labels unchanged if any\n",
    "                new_lines.append(\" \".join(parts) + \"\\n\")\n",
    "            else:\n",
    "                new_lines.append(\"\\n\")  # preserve blank lines\n",
    "        \n",
    "        with open(file_path, \"w\") as f:\n",
    "            f.writelines(new_lines)"
   ]
  },
  {
   "cell_type": "code",
   "execution_count": 7,
   "id": "d38c182e",
   "metadata": {},
   "outputs": [
    {
     "name": "stdout",
     "output_type": "stream",
     "text": [
      "Converted all XML files from 'archive\\annotation\\trash annotated' to YOLO format in 'archive\\labels'\n"
     ]
    }
   ],
   "source": [
    "import os\n",
    "import xml.etree.ElementTree as ET\n",
    "\n",
    "xml_folder = r\"archive\\annotation\\trash annotated\" \n",
    "yolo_folder = r\"archive\\labels\"\n",
    "\n",
    "os.makedirs(yolo_folder, exist_ok=True)\n",
    "\n",
    "for xml_file in os.listdir(xml_folder):\n",
    "    if not xml_file.endswith(\".xml\"):\n",
    "        continue\n",
    "\n",
    "    tree = ET.parse(os.path.join(xml_folder, xml_file))\n",
    "    root = tree.getroot()\n",
    "\n",
    "    # Image size\n",
    "    width = int(root.find(\"size/width\").text)\n",
    "    height = int(root.find(\"size/height\").text)\n",
    "\n",
    "    yolo_lines = []\n",
    "    for obj in root.findall(\"object\"):\n",
    "        bndbox = obj.find(\"bndbox\")\n",
    "        xmin = int(bndbox.find(\"xmin\").text)\n",
    "        ymin = int(bndbox.find(\"ymin\").text)\n",
    "        xmax = int(bndbox.find(\"xmax\").text)\n",
    "        ymax = int(bndbox.find(\"ymax\").text)\n",
    "\n",
    "        # YOLO normalized format\n",
    "        x_center = ((xmin + xmax) / 2) / width\n",
    "        y_center = ((ymin + ymax) / 2) / height\n",
    "        w = (xmax - xmin) / width\n",
    "        h = (ymax - ymin) / height\n",
    "\n",
    "        # Force class ID to 5\n",
    "        yolo_lines.append(f\"5 {x_center:.6f} {y_center:.6f} {w:.6f} {h:.6f}\")\n",
    "\n",
    "    # Save to txt\n",
    "    txt_file = os.path.join(yolo_folder, xml_file.replace(\".xml\", \".txt\"))\n",
    "    with open(txt_file, \"w\") as f:\n",
    "        f.write(\"\\n\".join(yolo_lines))\n",
    "\n",
    "print(f\"Converted all XML files from '{xml_folder}' to YOLO format in '{yolo_folder}'\")"
   ]
  }
 ],
 "metadata": {
  "kernelspec": {
   "display_name": "Python 3",
   "language": "python",
   "name": "python3"
  },
  "language_info": {
   "codemirror_mode": {
    "name": "ipython",
    "version": 3
   },
   "file_extension": ".py",
   "mimetype": "text/x-python",
   "name": "python",
   "nbconvert_exporter": "python",
   "pygments_lexer": "ipython3",
   "version": "3.11.3"
  }
 },
 "nbformat": 4,
 "nbformat_minor": 5
}
